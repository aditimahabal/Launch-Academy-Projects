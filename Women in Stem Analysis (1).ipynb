{
 "cells": [
  {
   "cell_type": "code",
   "execution_count": 521,
   "metadata": {},
   "outputs": [],
   "source": [
    "import numpy as np, pandas as pd, matplotlib.pyplot as plt \n",
    "%matplotlib inline"
   ]
  },
  {
   "cell_type": "code",
   "execution_count": 479,
   "metadata": {
    "scrolled": false
   },
   "outputs": [
    {
     "data": {
      "text/html": [
       "<div>\n",
       "<style scoped>\n",
       "    .dataframe tbody tr th:only-of-type {\n",
       "        vertical-align: middle;\n",
       "    }\n",
       "\n",
       "    .dataframe tbody tr th {\n",
       "        vertical-align: top;\n",
       "    }\n",
       "\n",
       "    .dataframe thead th {\n",
       "        text-align: right;\n",
       "    }\n",
       "</style>\n",
       "<table border=\"1\" class=\"dataframe\">\n",
       "  <thead>\n",
       "    <tr style=\"text-align: right;\">\n",
       "      <th></th>\n",
       "      <th>Rank</th>\n",
       "      <th>Major_code</th>\n",
       "      <th>Major</th>\n",
       "      <th>Major_category</th>\n",
       "      <th>Total</th>\n",
       "      <th>Men</th>\n",
       "      <th>Women</th>\n",
       "      <th>ShareWomen</th>\n",
       "      <th>Median</th>\n",
       "    </tr>\n",
       "  </thead>\n",
       "  <tbody>\n",
       "    <tr>\n",
       "      <th>0</th>\n",
       "      <td>1</td>\n",
       "      <td>2419</td>\n",
       "      <td>PETROLEUM ENGINEERING</td>\n",
       "      <td>Engineering</td>\n",
       "      <td>2339</td>\n",
       "      <td>2057</td>\n",
       "      <td>282</td>\n",
       "      <td>0.120564</td>\n",
       "      <td>110000</td>\n",
       "    </tr>\n",
       "    <tr>\n",
       "      <th>1</th>\n",
       "      <td>2</td>\n",
       "      <td>2416</td>\n",
       "      <td>MINING AND MINERAL ENGINEERING</td>\n",
       "      <td>Engineering</td>\n",
       "      <td>756</td>\n",
       "      <td>679</td>\n",
       "      <td>77</td>\n",
       "      <td>0.101852</td>\n",
       "      <td>75000</td>\n",
       "    </tr>\n",
       "    <tr>\n",
       "      <th>2</th>\n",
       "      <td>3</td>\n",
       "      <td>2415</td>\n",
       "      <td>METALLURGICAL ENGINEERING</td>\n",
       "      <td>Engineering</td>\n",
       "      <td>856</td>\n",
       "      <td>725</td>\n",
       "      <td>131</td>\n",
       "      <td>0.153037</td>\n",
       "      <td>73000</td>\n",
       "    </tr>\n",
       "    <tr>\n",
       "      <th>3</th>\n",
       "      <td>4</td>\n",
       "      <td>2417</td>\n",
       "      <td>NAVAL ARCHITECTURE AND MARINE ENGINEERING</td>\n",
       "      <td>Engineering</td>\n",
       "      <td>1258</td>\n",
       "      <td>1123</td>\n",
       "      <td>135</td>\n",
       "      <td>0.107313</td>\n",
       "      <td>70000</td>\n",
       "    </tr>\n",
       "    <tr>\n",
       "      <th>4</th>\n",
       "      <td>5</td>\n",
       "      <td>2418</td>\n",
       "      <td>NUCLEAR ENGINEERING</td>\n",
       "      <td>Engineering</td>\n",
       "      <td>2573</td>\n",
       "      <td>2200</td>\n",
       "      <td>373</td>\n",
       "      <td>0.144967</td>\n",
       "      <td>65000</td>\n",
       "    </tr>\n",
       "  </tbody>\n",
       "</table>\n",
       "</div>"
      ],
      "text/plain": [
       "   Rank  Major_code                                      Major Major_category  \\\n",
       "0     1        2419                      PETROLEUM ENGINEERING    Engineering   \n",
       "1     2        2416             MINING AND MINERAL ENGINEERING    Engineering   \n",
       "2     3        2415                  METALLURGICAL ENGINEERING    Engineering   \n",
       "3     4        2417  NAVAL ARCHITECTURE AND MARINE ENGINEERING    Engineering   \n",
       "4     5        2418                        NUCLEAR ENGINEERING    Engineering   \n",
       "\n",
       "   Total   Men  Women  ShareWomen  Median  \n",
       "0   2339  2057    282    0.120564  110000  \n",
       "1    756   679     77    0.101852   75000  \n",
       "2    856   725    131    0.153037   73000  \n",
       "3   1258  1123    135    0.107313   70000  \n",
       "4   2573  2200    373    0.144967   65000  "
      ]
     },
     "execution_count": 479,
     "metadata": {},
     "output_type": "execute_result"
    }
   ],
   "source": [
    "#imports the csv file\n",
    "csv_file = \"women-stem.csv\"\n",
    "\n",
    "#reads the csv file into the dataframe\n",
    "df = pd.read_csv(csv_file)\n",
    "#print(df)\n",
    "\n",
    "#shows the first five lines\n",
    "df.head()"
   ]
  },
  {
   "cell_type": "code",
   "execution_count": 482,
   "metadata": {},
   "outputs": [
    {
     "data": {
      "text/html": [
       "<div>\n",
       "<style scoped>\n",
       "    .dataframe tbody tr th:only-of-type {\n",
       "        vertical-align: middle;\n",
       "    }\n",
       "\n",
       "    .dataframe tbody tr th {\n",
       "        vertical-align: top;\n",
       "    }\n",
       "\n",
       "    .dataframe thead th {\n",
       "        text-align: right;\n",
       "    }\n",
       "</style>\n",
       "<table border=\"1\" class=\"dataframe\">\n",
       "  <thead>\n",
       "    <tr style=\"text-align: right;\">\n",
       "      <th></th>\n",
       "      <th>Rank</th>\n",
       "      <th>Major_code</th>\n",
       "      <th>Total</th>\n",
       "      <th>Men</th>\n",
       "      <th>Women</th>\n",
       "      <th>ShareWomen</th>\n",
       "      <th>Median</th>\n",
       "    </tr>\n",
       "    <tr>\n",
       "      <th>Major_category</th>\n",
       "      <th></th>\n",
       "      <th></th>\n",
       "      <th></th>\n",
       "      <th></th>\n",
       "      <th></th>\n",
       "      <th></th>\n",
       "      <th></th>\n",
       "    </tr>\n",
       "  </thead>\n",
       "  <tbody>\n",
       "    <tr>\n",
       "      <th>Biology &amp; Life Science</th>\n",
       "      <td>58.142857</td>\n",
       "      <td>3475.857143</td>\n",
       "      <td>32418.714286</td>\n",
       "      <td>13208.500000</td>\n",
       "      <td>19210.214286</td>\n",
       "      <td>0.587193</td>\n",
       "      <td>36421.428571</td>\n",
       "    </tr>\n",
       "    <tr>\n",
       "      <th>Computers &amp; Mathematics</th>\n",
       "      <td>39.545455</td>\n",
       "      <td>2702.727273</td>\n",
       "      <td>27182.545455</td>\n",
       "      <td>18975.000000</td>\n",
       "      <td>8207.545455</td>\n",
       "      <td>0.311772</td>\n",
       "      <td>42745.454545</td>\n",
       "    </tr>\n",
       "    <tr>\n",
       "      <th>Engineering</th>\n",
       "      <td>18.206897</td>\n",
       "      <td>2489.896552</td>\n",
       "      <td>18537.344828</td>\n",
       "      <td>14079.551724</td>\n",
       "      <td>4457.793103</td>\n",
       "      <td>0.238889</td>\n",
       "      <td>57382.758621</td>\n",
       "    </tr>\n",
       "    <tr>\n",
       "      <th>Health</th>\n",
       "      <td>58.916667</td>\n",
       "      <td>5937.916667</td>\n",
       "      <td>38602.500000</td>\n",
       "      <td>6293.083333</td>\n",
       "      <td>32309.416667</td>\n",
       "      <td>0.795152</td>\n",
       "      <td>36825.000000</td>\n",
       "    </tr>\n",
       "    <tr>\n",
       "      <th>Physical Sciences</th>\n",
       "      <td>44.200000</td>\n",
       "      <td>5022.800000</td>\n",
       "      <td>18547.900000</td>\n",
       "      <td>9539.000000</td>\n",
       "      <td>9008.900000</td>\n",
       "      <td>0.508683</td>\n",
       "      <td>41890.000000</td>\n",
       "    </tr>\n",
       "  </tbody>\n",
       "</table>\n",
       "</div>"
      ],
      "text/plain": [
       "                              Rank   Major_code         Total           Men  \\\n",
       "Major_category                                                                \n",
       "Biology & Life Science   58.142857  3475.857143  32418.714286  13208.500000   \n",
       "Computers & Mathematics  39.545455  2702.727273  27182.545455  18975.000000   \n",
       "Engineering              18.206897  2489.896552  18537.344828  14079.551724   \n",
       "Health                   58.916667  5937.916667  38602.500000   6293.083333   \n",
       "Physical Sciences        44.200000  5022.800000  18547.900000   9539.000000   \n",
       "\n",
       "                                Women  ShareWomen        Median  \n",
       "Major_category                                                   \n",
       "Biology & Life Science   19210.214286    0.587193  36421.428571  \n",
       "Computers & Mathematics   8207.545455    0.311772  42745.454545  \n",
       "Engineering               4457.793103    0.238889  57382.758621  \n",
       "Health                   32309.416667    0.795152  36825.000000  \n",
       "Physical Sciences         9008.900000    0.508683  41890.000000  "
      ]
     },
     "execution_count": 482,
     "metadata": {},
     "output_type": "execute_result"
    }
   ],
   "source": [
    "#groups the dataset into categories by majors, and takes the average of each category\n",
    "dfMeans = df.groupby(\"Major_category\").mean()\n",
    "\n",
    "#prints the first five lines of the categorized/averaged dataset\n",
    "dfMeans.head()"
   ]
  },
  {
   "cell_type": "code",
   "execution_count": 483,
   "metadata": {},
   "outputs": [
    {
     "name": "stdout",
     "output_type": "stream",
     "text": [
      "Major_category\n",
      "Biology & Life Science     19210.214286\n",
      "Computers & Mathematics     8207.545455\n",
      "Engineering                 4457.793103\n",
      "Health                     32309.416667\n",
      "Physical Sciences           9008.900000\n",
      "Name: Women, dtype: float64\n",
      "Major_category\n",
      "Biology & Life Science     13208.500000\n",
      "Computers & Mathematics    18975.000000\n",
      "Engineering                14079.551724\n",
      "Health                      6293.083333\n",
      "Physical Sciences           9539.000000\n",
      "Name: Men, dtype: float64\n"
     ]
    }
   ],
   "source": [
    "#returns the average number of women in each major category\n",
    "meanWomen = dfMeans[\"Women\"]\n",
    "print(meanWomen)\n",
    "\n",
    "#returns the average number of men in each major category\n",
    "meanMen = dfMeans[\"Men\"]\n",
    "print(meanMen)"
   ]
  },
  {
   "cell_type": "code",
   "execution_count": 485,
   "metadata": {},
   "outputs": [
    {
     "data": {
      "text/plain": [
       "(0, 40000)"
      ]
     },
     "execution_count": 485,
     "metadata": {},
     "output_type": "execute_result"
    },
    {
     "data": {
      "image/png": "[encoded data removed]",
      "text/plain": [
       "<Figure size 432x288 with 1 Axes>"
      ]
     },
     "metadata": {
      "needs_background": "light"
     },
     "output_type": "display_data"
    }
   ],
   "source": [
    "#creates a graph for the average number of women in each major category\n",
    "mean_women_cat = dfMeans[\"Women\"]\n",
    "mean_women_cat.plot(kind=\"bar\")\n",
    "\n",
    "#labelling the title and x/y axes\n",
    "plt.title('Avg. # of Women in Stem Fields')\n",
    "plt.ylabel('Amount of Women')\n",
    "plt.xlabel('Field')\n",
    "\n",
    "#creating a limit of 40,000 is necessary to give both graphs the same scale\n",
    "plt.ylim(0,40000)"
   ]
  },
  {
   "cell_type": "code",
   "execution_count": 486,
   "metadata": {
    "scrolled": false
   },
   "outputs": [
    {
     "data": {
      "text/plain": [
       "(0, 40000)"
      ]
     },
     "execution_count": 486,
     "metadata": {},
     "output_type": "execute_result"
    },
    {
     "data": {
      "image/png": "[encoded data removed]",
      "text/plain": [
       "<Figure size 432x288 with 1 Axes>"
      ]
     },
     "metadata": {
      "needs_background": "light"
     },
     "output_type": "display_data"
    }
   ],
   "source": [
    "#creates a graph for the average number of women in each major category\n",
    "mean_men_cat = dfMeans[\"Men\"]\n",
    "mean_men_cat.plot(kind=\"bar\")\n",
    "\n",
    "#labelling the title and x/y axes\n",
    "plt.title('Avg. # of Men in Stem Fields')\n",
    "plt.ylabel('Amount of Men')\n",
    "plt.xlabel('Field')\n",
    "\n",
    "#creating a limit of 40,000 is necessary to give both graphs the same scale\n",
    "plt.ylim(0,40000)"
   ]
  },
  {
   "cell_type": "code",
   "execution_count": 492,
   "metadata": {},
   "outputs": [
    {
     "data": {
      "text/plain": [
       "Text(0.5, 0, 'Salaries')"
      ]
     },
     "execution_count": 492,
     "metadata": {},
     "output_type": "execute_result"
    },
    {
     "data": {
      "image/png": "[encoded data removed]",
      "text/plain": [
       "<Figure size 432x288 with 1 Axes>"
      ]
     },
     "metadata": {
      "needs_background": "light"
     },
     "output_type": "display_data"
    }
   ],
   "source": [
    "#preliminary analysis: comparing the share of women in each major category vs that field's median salary\n",
    "dfShare = (dfMeans.sort_values(by='ShareWomen', ascending = True))\n",
    "dfShare.plot(kind = \"barh\",x='ShareWomen',y='Median')\n",
    "\n",
    "#labelling the title and x/y axes\n",
    "plt.title('Share of Women in Stem Fields vs. Salaries')\n",
    "plt.ylabel('Share of Women')\n",
    "plt.xlabel('Salaries')\n",
    "\n",
    "#Note: If I was able to/ with a better understanding of matplotlib and pandas, \n",
    "#I would have changed the bar labels on the y axis to reflect \n",
    "#the different major categories they each represent, and as to remove the confusing string of numbers."
   ]
  },
  {
   "cell_type": "code",
   "execution_count": 503,
   "metadata": {},
   "outputs": [
    {
     "data": {
      "text/html": [
       "<div>\n",
       "<style scoped>\n",
       "    .dataframe tbody tr th:only-of-type {\n",
       "        vertical-align: middle;\n",
       "    }\n",
       "\n",
       "    .dataframe tbody tr th {\n",
       "        vertical-align: top;\n",
       "    }\n",
       "\n",
       "    .dataframe thead th {\n",
       "        text-align: right;\n",
       "    }\n",
       "</style>\n",
       "<table border=\"1\" class=\"dataframe\">\n",
       "  <thead>\n",
       "    <tr style=\"text-align: right;\">\n",
       "      <th></th>\n",
       "      <th>Rank</th>\n",
       "      <th>Major_code</th>\n",
       "      <th>Major</th>\n",
       "      <th>Total</th>\n",
       "      <th>Men</th>\n",
       "      <th>Women</th>\n",
       "      <th>Major_category</th>\n",
       "      <th>ShareWomen</th>\n",
       "      <th>Sample_size</th>\n",
       "      <th>Employed</th>\n",
       "      <th>...</th>\n",
       "      <th>Part_time</th>\n",
       "      <th>Full_time_year_round</th>\n",
       "      <th>Unemployed</th>\n",
       "      <th>Unemployment_rate</th>\n",
       "      <th>Median</th>\n",
       "      <th>P25th</th>\n",
       "      <th>P75th</th>\n",
       "      <th>College_jobs</th>\n",
       "      <th>Non_college_jobs</th>\n",
       "      <th>Low_wage_jobs</th>\n",
       "    </tr>\n",
       "  </thead>\n",
       "  <tbody>\n",
       "    <tr>\n",
       "      <th>168</th>\n",
       "      <td>169</td>\n",
       "      <td>3609</td>\n",
       "      <td>ZOOLOGY</td>\n",
       "      <td>8409.0</td>\n",
       "      <td>3050.0</td>\n",
       "      <td>5359.0</td>\n",
       "      <td>Biology &amp; Life Science</td>\n",
       "      <td>0.637293</td>\n",
       "      <td>47</td>\n",
       "      <td>6259</td>\n",
       "      <td>...</td>\n",
       "      <td>2190</td>\n",
       "      <td>3602</td>\n",
       "      <td>304</td>\n",
       "      <td>0.046320</td>\n",
       "      <td>26000</td>\n",
       "      <td>20000</td>\n",
       "      <td>39000</td>\n",
       "      <td>2771</td>\n",
       "      <td>2947</td>\n",
       "      <td>743</td>\n",
       "    </tr>\n",
       "    <tr>\n",
       "      <th>169</th>\n",
       "      <td>170</td>\n",
       "      <td>5201</td>\n",
       "      <td>EDUCATIONAL PSYCHOLOGY</td>\n",
       "      <td>2854.0</td>\n",
       "      <td>522.0</td>\n",
       "      <td>2332.0</td>\n",
       "      <td>Psychology &amp; Social Work</td>\n",
       "      <td>0.817099</td>\n",
       "      <td>7</td>\n",
       "      <td>2125</td>\n",
       "      <td>...</td>\n",
       "      <td>572</td>\n",
       "      <td>1211</td>\n",
       "      <td>148</td>\n",
       "      <td>0.065112</td>\n",
       "      <td>25000</td>\n",
       "      <td>24000</td>\n",
       "      <td>34000</td>\n",
       "      <td>1488</td>\n",
       "      <td>615</td>\n",
       "      <td>82</td>\n",
       "    </tr>\n",
       "    <tr>\n",
       "      <th>170</th>\n",
       "      <td>171</td>\n",
       "      <td>5202</td>\n",
       "      <td>CLINICAL PSYCHOLOGY</td>\n",
       "      <td>2838.0</td>\n",
       "      <td>568.0</td>\n",
       "      <td>2270.0</td>\n",
       "      <td>Psychology &amp; Social Work</td>\n",
       "      <td>0.799859</td>\n",
       "      <td>13</td>\n",
       "      <td>2101</td>\n",
       "      <td>...</td>\n",
       "      <td>648</td>\n",
       "      <td>1293</td>\n",
       "      <td>368</td>\n",
       "      <td>0.149048</td>\n",
       "      <td>25000</td>\n",
       "      <td>25000</td>\n",
       "      <td>40000</td>\n",
       "      <td>986</td>\n",
       "      <td>870</td>\n",
       "      <td>622</td>\n",
       "    </tr>\n",
       "    <tr>\n",
       "      <th>171</th>\n",
       "      <td>172</td>\n",
       "      <td>5203</td>\n",
       "      <td>COUNSELING PSYCHOLOGY</td>\n",
       "      <td>4626.0</td>\n",
       "      <td>931.0</td>\n",
       "      <td>3695.0</td>\n",
       "      <td>Psychology &amp; Social Work</td>\n",
       "      <td>0.798746</td>\n",
       "      <td>21</td>\n",
       "      <td>3777</td>\n",
       "      <td>...</td>\n",
       "      <td>965</td>\n",
       "      <td>2738</td>\n",
       "      <td>214</td>\n",
       "      <td>0.053621</td>\n",
       "      <td>23400</td>\n",
       "      <td>19200</td>\n",
       "      <td>26000</td>\n",
       "      <td>2403</td>\n",
       "      <td>1245</td>\n",
       "      <td>308</td>\n",
       "    </tr>\n",
       "    <tr>\n",
       "      <th>172</th>\n",
       "      <td>173</td>\n",
       "      <td>3501</td>\n",
       "      <td>LIBRARY SCIENCE</td>\n",
       "      <td>1098.0</td>\n",
       "      <td>134.0</td>\n",
       "      <td>964.0</td>\n",
       "      <td>Education</td>\n",
       "      <td>0.877960</td>\n",
       "      <td>2</td>\n",
       "      <td>742</td>\n",
       "      <td>...</td>\n",
       "      <td>237</td>\n",
       "      <td>410</td>\n",
       "      <td>87</td>\n",
       "      <td>0.104946</td>\n",
       "      <td>22000</td>\n",
       "      <td>20000</td>\n",
       "      <td>22000</td>\n",
       "      <td>288</td>\n",
       "      <td>338</td>\n",
       "      <td>192</td>\n",
       "    </tr>\n",
       "  </tbody>\n",
       "</table>\n",
       "<p>5 rows × 21 columns</p>\n",
       "</div>"
      ],
      "text/plain": [
       "     Rank  Major_code                   Major   Total     Men   Women  \\\n",
       "168   169        3609                 ZOOLOGY  8409.0  3050.0  5359.0   \n",
       "169   170        5201  EDUCATIONAL PSYCHOLOGY  2854.0   522.0  2332.0   \n",
       "170   171        5202     CLINICAL PSYCHOLOGY  2838.0   568.0  2270.0   \n",
       "171   172        5203   COUNSELING PSYCHOLOGY  4626.0   931.0  3695.0   \n",
       "172   173        3501         LIBRARY SCIENCE  1098.0   134.0   964.0   \n",
       "\n",
       "               Major_category  ShareWomen  Sample_size  Employed  ...  \\\n",
       "168    Biology & Life Science    0.637293           47      6259  ...   \n",
       "169  Psychology & Social Work    0.817099            7      2125  ...   \n",
       "170  Psychology & Social Work    0.799859           13      2101  ...   \n",
       "171  Psychology & Social Work    0.798746           21      3777  ...   \n",
       "172                 Education    0.877960            2       742  ...   \n",
       "\n",
       "     Part_time  Full_time_year_round  Unemployed  Unemployment_rate  Median  \\\n",
       "168       2190                  3602         304           0.046320   26000   \n",
       "169        572                  1211         148           0.065112   25000   \n",
       "170        648                  1293         368           0.149048   25000   \n",
       "171        965                  2738         214           0.053621   23400   \n",
       "172        237                   410          87           0.104946   22000   \n",
       "\n",
       "     P25th  P75th  College_jobs  Non_college_jobs  Low_wage_jobs  \n",
       "168  20000  39000          2771              2947            743  \n",
       "169  24000  34000          1488               615             82  \n",
       "170  25000  40000           986               870            622  \n",
       "171  19200  26000          2403              1245            308  \n",
       "172  20000  22000           288               338            192  \n",
       "\n",
       "[5 rows x 21 columns]"
      ]
     },
     "execution_count": 503,
     "metadata": {},
     "output_type": "execute_result"
    }
   ],
   "source": [
    "#imports the csv file of the second dataset\n",
    "csv_file2 = \"recent-grads.csv\"\n",
    "\n",
    "#reads the csv file into the dataframe\n",
    "df2temp = pd.read_csv(csv_file2)\n",
    "\n",
    "df2temp.tail()"
   ]
  },
  {
   "cell_type": "code",
   "execution_count": 522,
   "metadata": {
    "scrolled": false
   },
   "outputs": [
    {
     "data": {
      "text/html": [
       "<div>\n",
       "<style scoped>\n",
       "    .dataframe tbody tr th:only-of-type {\n",
       "        vertical-align: middle;\n",
       "    }\n",
       "\n",
       "    .dataframe tbody tr th {\n",
       "        vertical-align: top;\n",
       "    }\n",
       "\n",
       "    .dataframe thead th {\n",
       "        text-align: right;\n",
       "    }\n",
       "</style>\n",
       "<table border=\"1\" class=\"dataframe\">\n",
       "  <thead>\n",
       "    <tr style=\"text-align: right;\">\n",
       "      <th></th>\n",
       "      <th>Major_category</th>\n",
       "      <th>Men</th>\n",
       "      <th>Women</th>\n",
       "      <th>ShareWomen</th>\n",
       "      <th>Unemployment_rate</th>\n",
       "      <th>P25th</th>\n",
       "      <th>P75th</th>\n",
       "      <th>Low_wage_jobs</th>\n",
       "      <th>Part_time</th>\n",
       "    </tr>\n",
       "  </thead>\n",
       "  <tbody>\n",
       "    <tr>\n",
       "      <th>126</th>\n",
       "      <td>Health</td>\n",
       "      <td>13487.0</td>\n",
       "      <td>35004.0</td>\n",
       "      <td>0.721866</td>\n",
       "      <td>0.059821</td>\n",
       "      <td>24000</td>\n",
       "      <td>41000</td>\n",
       "      <td>4468</td>\n",
       "      <td>12346</td>\n",
       "    </tr>\n",
       "    <tr>\n",
       "      <th>132</th>\n",
       "      <td>Biology &amp; Life Science</td>\n",
       "      <td>3878.0</td>\n",
       "      <td>5276.0</td>\n",
       "      <td>0.576360</td>\n",
       "      <td>0.054475</td>\n",
       "      <td>23000</td>\n",
       "      <td>42000</td>\n",
       "      <td>976</td>\n",
       "      <td>2741</td>\n",
       "    </tr>\n",
       "    <tr>\n",
       "      <th>134</th>\n",
       "      <td>Health</td>\n",
       "      <td>7574.0</td>\n",
       "      <td>26025.0</td>\n",
       "      <td>0.774577</td>\n",
       "      <td>0.082102</td>\n",
       "      <td>25000</td>\n",
       "      <td>45000</td>\n",
       "      <td>3816</td>\n",
       "      <td>11088</td>\n",
       "    </tr>\n",
       "    <tr>\n",
       "      <th>163</th>\n",
       "      <td>Health</td>\n",
       "      <td>1225.0</td>\n",
       "      <td>37054.0</td>\n",
       "      <td>0.967998</td>\n",
       "      <td>0.047584</td>\n",
       "      <td>20000</td>\n",
       "      <td>40000</td>\n",
       "      <td>5125</td>\n",
       "      <td>13862</td>\n",
       "    </tr>\n",
       "    <tr>\n",
       "      <th>168</th>\n",
       "      <td>Biology &amp; Life Science</td>\n",
       "      <td>3050.0</td>\n",
       "      <td>5359.0</td>\n",
       "      <td>0.637293</td>\n",
       "      <td>0.046320</td>\n",
       "      <td>20000</td>\n",
       "      <td>39000</td>\n",
       "      <td>743</td>\n",
       "      <td>2190</td>\n",
       "    </tr>\n",
       "  </tbody>\n",
       "</table>\n",
       "</div>"
      ],
      "text/plain": [
       "             Major_category      Men    Women  ShareWomen  Unemployment_rate  \\\n",
       "126                  Health  13487.0  35004.0    0.721866           0.059821   \n",
       "132  Biology & Life Science   3878.0   5276.0    0.576360           0.054475   \n",
       "134                  Health   7574.0  26025.0    0.774577           0.082102   \n",
       "163                  Health   1225.0  37054.0    0.967998           0.047584   \n",
       "168  Biology & Life Science   3050.0   5359.0    0.637293           0.046320   \n",
       "\n",
       "     P25th  P75th  Low_wage_jobs  Part_time  \n",
       "126  24000  41000           4468      12346  \n",
       "132  23000  42000            976       2741  \n",
       "134  25000  45000           3816      11088  \n",
       "163  20000  40000           5125      13862  \n",
       "168  20000  39000            743       2190  "
      ]
     },
     "execution_count": 522,
     "metadata": {},
     "output_type": "execute_result"
    }
   ],
   "source": [
    "#this imported data set had hundreds of majors that didn't fit the criteria for this data story.\n",
    "#so, the following code filters the data table for only important, usable data\n",
    "\n",
    "#filters out all unrelated columns\n",
    "df2temp2 = df2temp.filter(items=['Major_category', 'Men', 'Women', 'ShareWomen', 'Unemployment_rate', \n",
    "                                'P25th', 'P75th', 'Low_wage_jobs', 'Part_time'])\n",
    "\n",
    "#filters out all unrelated majors (arts, humanities) so the dataset contains only STEM statistics\n",
    "df2_filtered = df2temp2[(df2temp.Major_category == \"Engineering\") | \n",
    "                       (df2temp.Major_category == \"Biology & Life Science\") | \n",
    "                       (df2temp.Major_category == \"Physical Sciences\") | \n",
    "                       (df2temp.Major_category == \"Health\") | \n",
    "                       (df2temp.Major_category == \"Computers & Mathematics\")]\n",
    "\n",
    "#stores the new dataset into a finished data frame\n",
    "df2 = df2_filtered\n",
    "\n",
    "#prints the last five data rows in the frame\n",
    "df2.tail()"
   ]
  },
  {
   "cell_type": "code",
   "execution_count": 498,
   "metadata": {},
   "outputs": [
    {
     "data": {
      "text/html": [
       "<div>\n",
       "<style scoped>\n",
       "    .dataframe tbody tr th:only-of-type {\n",
       "        vertical-align: middle;\n",
       "    }\n",
       "\n",
       "    .dataframe tbody tr th {\n",
       "        vertical-align: top;\n",
       "    }\n",
       "\n",
       "    .dataframe thead th {\n",
       "        text-align: right;\n",
       "    }\n",
       "</style>\n",
       "<table border=\"1\" class=\"dataframe\">\n",
       "  <thead>\n",
       "    <tr style=\"text-align: right;\">\n",
       "      <th></th>\n",
       "      <th>Men</th>\n",
       "      <th>Women</th>\n",
       "      <th>ShareWomen</th>\n",
       "      <th>Unemployment_rate</th>\n",
       "      <th>P25th</th>\n",
       "      <th>P75th</th>\n",
       "      <th>Low_wage_jobs</th>\n",
       "      <th>Part_time</th>\n",
       "    </tr>\n",
       "    <tr>\n",
       "      <th>Major_category</th>\n",
       "      <th></th>\n",
       "      <th></th>\n",
       "      <th></th>\n",
       "      <th></th>\n",
       "      <th></th>\n",
       "      <th></th>\n",
       "      <th></th>\n",
       "      <th></th>\n",
       "    </tr>\n",
       "  </thead>\n",
       "  <tbody>\n",
       "    <tr>\n",
       "      <th>Biology &amp; Life Science</th>\n",
       "      <td>13208.500000</td>\n",
       "      <td>19210.214286</td>\n",
       "      <td>0.587193</td>\n",
       "      <td>0.060918</td>\n",
       "      <td>26614.285714</td>\n",
       "      <td>46085.714286</td>\n",
       "      <td>3053.000000</td>\n",
       "      <td>8338.285714</td>\n",
       "    </tr>\n",
       "    <tr>\n",
       "      <th>Computers &amp; Mathematics</th>\n",
       "      <td>18975.000000</td>\n",
       "      <td>8207.545455</td>\n",
       "      <td>0.311772</td>\n",
       "      <td>0.084256</td>\n",
       "      <td>29290.909091</td>\n",
       "      <td>58090.909091</td>\n",
       "      <td>1466.909091</td>\n",
       "      <td>4842.727273</td>\n",
       "    </tr>\n",
       "    <tr>\n",
       "      <th>Engineering</th>\n",
       "      <td>14079.551724</td>\n",
       "      <td>4457.793103</td>\n",
       "      <td>0.238889</td>\n",
       "      <td>0.063334</td>\n",
       "      <td>41555.172414</td>\n",
       "      <td>70448.275862</td>\n",
       "      <td>864.793103</td>\n",
       "      <td>2935.724138</td>\n",
       "    </tr>\n",
       "    <tr>\n",
       "      <th>Health</th>\n",
       "      <td>6293.083333</td>\n",
       "      <td>32309.416667</td>\n",
       "      <td>0.795152</td>\n",
       "      <td>0.065920</td>\n",
       "      <td>26166.666667</td>\n",
       "      <td>50250.000000</td>\n",
       "      <td>2605.833333</td>\n",
       "      <td>9549.333333</td>\n",
       "    </tr>\n",
       "    <tr>\n",
       "      <th>Physical Sciences</th>\n",
       "      <td>9539.000000</td>\n",
       "      <td>9008.900000</td>\n",
       "      <td>0.508683</td>\n",
       "      <td>0.046511</td>\n",
       "      <td>28350.000000</td>\n",
       "      <td>57290.000000</td>\n",
       "      <td>1407.800000</td>\n",
       "      <td>4344.400000</td>\n",
       "    </tr>\n",
       "  </tbody>\n",
       "</table>\n",
       "</div>"
      ],
      "text/plain": [
       "                                  Men         Women  ShareWomen  \\\n",
       "Major_category                                                    \n",
       "Biology & Life Science   13208.500000  19210.214286    0.587193   \n",
       "Computers & Mathematics  18975.000000   8207.545455    0.311772   \n",
       "Engineering              14079.551724   4457.793103    0.238889   \n",
       "Health                    6293.083333  32309.416667    0.795152   \n",
       "Physical Sciences         9539.000000   9008.900000    0.508683   \n",
       "\n",
       "                         Unemployment_rate         P25th         P75th  \\\n",
       "Major_category                                                           \n",
       "Biology & Life Science            0.060918  26614.285714  46085.714286   \n",
       "Computers & Mathematics           0.084256  29290.909091  58090.909091   \n",
       "Engineering                       0.063334  41555.172414  70448.275862   \n",
       "Health                            0.065920  26166.666667  50250.000000   \n",
       "Physical Sciences                 0.046511  28350.000000  57290.000000   \n",
       "\n",
       "                         Low_wage_jobs    Part_time  \n",
       "Major_category                                       \n",
       "Biology & Life Science     3053.000000  8338.285714  \n",
       "Computers & Mathematics    1466.909091  4842.727273  \n",
       "Engineering                 864.793103  2935.724138  \n",
       "Health                     2605.833333  9549.333333  \n",
       "Physical Sciences          1407.800000  4344.400000  "
      ]
     },
     "execution_count": 498,
     "metadata": {},
     "output_type": "execute_result"
    }
   ],
   "source": [
    "#groups the dataset into categories by majors, and takes the average of each category\n",
    "df2Means = df2.groupby(\"Major_category\").mean()\n",
    "\n",
    "#prints the first five lines of the categorized/averaged dataset\n",
    "df2Means.head()"
   ]
  },
  {
   "cell_type": "code",
   "execution_count": 493,
   "metadata": {},
   "outputs": [
    {
     "data": {
      "text/plain": [
       "(0, 10000)"
      ]
     },
     "execution_count": 493,
     "metadata": {},
     "output_type": "execute_result"
    },
    {
     "data": {
      "image/png": "[encoded data removed]",
      "text/plain": [
       "<Figure size 432x288 with 1 Axes>"
      ]
     },
     "metadata": {
      "needs_background": "light"
     },
     "output_type": "display_data"
    }
   ],
   "source": [
    "#second analysis: contrasting the share of women in each field vs. the number of low wage jobs\n",
    "\n",
    "#creates a data frame \"share of unemployment(ShUmp)\" to sort the values and create a scatter plot\n",
    "dfShUmp = (df2.sort_values(by='Women', ascending = True))\n",
    "dfShUmp.plot(kind = \"scatter\",x='Women',y='Low_wage_jobs')\n",
    "\n",
    "#labelling the title and x/y axes\n",
    "plt.title('# of Women in Stem Fields vs. # of Low Wage Jobs per Field')\n",
    "plt.ylabel('# of Low Wage Jobs')\n",
    "plt.xlabel('# of Women')\n",
    "plt.xlim(0, 40000)\n",
    "plt.ylim(0, 10000)"
   ]
  },
  {
   "cell_type": "code",
   "execution_count": 520,
   "metadata": {},
   "outputs": [
    {
     "name": "stdout",
     "output_type": "stream",
     "text": [
      "Major_category\n",
      "Biology & Life Science     32.688813\n",
      "Computers & Mathematics    20.424439\n",
      "Engineering                18.230290\n",
      "Health                     27.989478\n",
      "Physical Sciences          27.795977\n",
      "Name: Part timers, dtype: float64\n"
     ]
    },
    {
     "data": {
      "text/plain": [
       "Text(0.5, 0, 'Percentage of Part Time Jobs')"
      ]
     },
     "execution_count": 520,
     "metadata": {},
     "output_type": "execute_result"
    },
    {
     "data": {
      "image/png": "[encoded data removed]",
      "text/plain": [
       "<Figure size 432x288 with 1 Axes>"
      ]
     },
     "metadata": {
      "needs_background": "light"
     },
     "output_type": "display_data"
    }
   ],
   "source": [
    "#after finishing the other three graphs, I got the idea to analyze the relationship \n",
    "#between the share of part time jobs in a field with the share of women in that field.\n",
    "\n",
    "#however, I didn't want to disrupt my other data by editing the original data frame directly,\n",
    "#so I created a new data frame 3 with the statistics I needed here.\n",
    "\n",
    "#takes all the data from the original, unedited data frame\n",
    "newdf2 = df2temp\n",
    "\n",
    "#filters the data frame again to only contain STEM statistics\n",
    "newdf2_filtered = newdf2[(newdf2.Major_category == \"Engineering\") | \n",
    "                       (newdf2.Major_category == \"Biology & Life Science\") | \n",
    "                       (newdf2.Major_category == \"Physical Sciences\") | \n",
    "                       (newdf2.Major_category == \"Health\") | \n",
    "                       (newdf2.Major_category == \"Computers & Mathematics\")]\n",
    "\n",
    "#organizes the data frame to be categorized by Major_category, and present each column's averages\n",
    "newdf3 = newdf2_filtered.groupby(\"Major_category\").mean()\n",
    "\n",
    "#calculates the percentage of the # of part time jobs in each field, out of the total # of jobs\n",
    "b = newdf3['Part_time']/(newdf3['Part_time']+newdf3['Full_time']) * 100\n",
    "\n",
    "#inserts the new values into the new data frame\n",
    "newdf3.insert(1, \"Part timers\", b)\n",
    "\n",
    "#prints the new, smaller dataset\n",
    "print(newdf3['Part timers'])\n",
    "\n",
    "#sorts the data and plots the analysis\n",
    "sorteddf3 = newdf3.sort_values(by=\"ShareWomen\", ascending=True)\n",
    "sorteddf3.plot(kind=\"barh\", x=\"ShareWomen\", y=\"Part timers\")\n",
    "\n",
    "#labelling the title and x/y axes\n",
    "plt.title('Share of Women in STEM Fields vs. % of Part Time Jobs')\n",
    "plt.ylabel('Share of Women')\n",
    "plt.xlabel('Percentage of Part Time Jobs')"
   ]
  },
  {
   "cell_type": "code",
   "execution_count": 391,
   "metadata": {
    "scrolled": true
   },
   "outputs": [],
   "source": [
    "#creates a new data frame with all the averaged values of the new dataset\n",
    "newdf = df2Means\n",
    "\n",
    "#calculates the ratio of men to women in each of the major categories\n",
    "x = newdf['Men']/newdf['Women']\n",
    "\n",
    "#inserts a column into the new data frame storing this ratio data\n",
    "newdf.insert(1, \"Ratios\", x)"
   ]
  },
  {
   "cell_type": "code",
   "execution_count": 495,
   "metadata": {},
   "outputs": [
    {
     "data": {
      "text/plain": [
       "Text(0.5, 0, '# of Low Wage Jobs')"
      ]
     },
     "execution_count": 495,
     "metadata": {},
     "output_type": "execute_result"
    },
    {
     "data": {
      "image/png": "[encoded data removed]",
      "text/plain": [
       "<Figure size 432x288 with 1 Axes>"
      ]
     },
     "metadata": {
      "needs_background": "light"
     },
     "output_type": "display_data"
    }
   ],
   "source": [
    "#fourth analysis: comparing the ratio of men to women in each major category vs. that field's low wage jobs\n",
    "newnewdf = newdf.sort_values(by=\"Ratios\", ascending=True)\n",
    "newnewdf.plot(kind=\"barh\", x=\"Ratios\", y=\"Low_wage_jobs\")\n",
    "\n",
    "#labelling the title and x/y axes\n",
    "plt.title('Ratio of Men to Women in STEM Fields vs. # of Low Wage Jobs per Field')\n",
    "plt.ylabel('Ratio of Men to Women')\n",
    "plt.xlabel('# of Low Wage Jobs')\n",
    "\n",
    "#Note: Again, if I was able to/ with a better understanding of matplotlib and pandas, \n",
    "#I would have changed the bar labels on the y axis to reflect \n",
    "#the different major categories they each represent, and as to remove the confusing string of numbers."
   ]
  },
  {
   "cell_type": "code",
   "execution_count": null,
   "metadata": {},
   "outputs": [],
   "source": []
  }
 ],
 "metadata": {
  "kernelspec": {
   "display_name": "Python 3",
   "language": "python",
   "name": "python3"
  },
  "language_info": {
   "codemirror_mode": {
    "name": "ipython",
    "version": 3
   },
   "file_extension": ".py",
   "mimetype": "text/x-python",
   "name": "python",
   "nbconvert_exporter": "python",
   "pygments_lexer": "ipython3",
   "version": "3.7.3"
  }
 },
 "nbformat": 4,
 "nbformat_minor": 2
}
